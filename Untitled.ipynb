{
 "cells": [
  {
   "cell_type": "code",
   "execution_count": 1,
   "id": "downtown-modern",
   "metadata": {},
   "outputs": [],
   "source": [
    "import sqlite3"
   ]
  },
  {
   "cell_type": "code",
   "execution_count": 20,
   "id": "fourth-state",
   "metadata": {},
   "outputs": [],
   "source": [
    "database = sqlite3.connect('classes.db')"
   ]
  },
  {
   "cell_type": "code",
   "execution_count": 21,
   "id": "warming-secretariat",
   "metadata": {},
   "outputs": [],
   "source": [
    "cursor = database.cursor()"
   ]
  },
  {
   "cell_type": "code",
   "execution_count": 22,
   "id": "amino-limit",
   "metadata": {},
   "outputs": [],
   "source": [
    "ans = cursor.execute(\"drop table  `links`\").fetchall()"
   ]
  },
  {
   "cell_type": "code",
   "execution_count": 25,
   "id": "prompt-flush",
   "metadata": {},
   "outputs": [
    {
     "name": "stdout",
     "output_type": "stream",
     "text": [
      "[]\n"
     ]
    }
   ],
   "source": [
    "print(ans)\n",
    "database.commit()\n",
    "cursor.close()\n",
    "database.close()"
   ]
  },
  {
   "cell_type": "code",
   "execution_count": 36,
   "id": "extensive-prefix",
   "metadata": {},
   "outputs": [
    {
     "data": {
      "text/plain": [
       "<sqlite3.Cursor at 0x1ad5a4a67a0>"
      ]
     },
     "execution_count": 36,
     "metadata": {},
     "output_type": "execute_result"
    }
   ],
   "source": [
    "cursor.execute(\"CREATE TABLE IF NOT EXISTS `votes` ( `id` INTEGER PRIMARY KEY AUTOINCREMENT, `class` INT NOT NULL DEFAULT '-1' , `theme` TEXT NOT NULL , `query` TEXT NOT NULL , `text` TEXT NOT NULL, `link` text NOT NULL);\")"
   ]
  },
  {
   "cell_type": "code",
   "execution_count": 37,
   "id": "conditional-neutral",
   "metadata": {},
   "outputs": [
    {
     "data": {
      "text/plain": [
       "<sqlite3.Cursor at 0x1ad5a4a67a0>"
      ]
     },
     "execution_count": 37,
     "metadata": {},
     "output_type": "execute_result"
    }
   ],
   "source": [
    "cursor.execute(\"INSERT INTO `votes` (`id`, `class`, `theme`, `query`, `text`, `link`) VALUES (NULL, '-1', 'ИМПМО', 'запрос', 'текст публикации', 'https://vk.com/furrdi');\")"
   ]
  },
  {
   "cell_type": "code",
   "execution_count": 72,
   "id": "champion-attitude",
   "metadata": {},
   "outputs": [
    {
     "ename": "ProgrammingError",
     "evalue": "Cannot operate on a closed database.",
     "output_type": "error",
     "traceback": [
      "\u001b[1;31m---------------------------------------------------------------------------\u001b[0m",
      "\u001b[1;31mProgrammingError\u001b[0m                          Traceback (most recent call last)",
      "\u001b[1;32m<ipython-input-72-0d369642a61b>\u001b[0m in \u001b[0;36m<module>\u001b[1;34m\u001b[0m\n\u001b[1;32m----> 1\u001b[1;33m \u001b[0mdatabase\u001b[0m\u001b[1;33m.\u001b[0m\u001b[0mexecute\u001b[0m\u001b[1;33m(\u001b[0m\u001b[1;34m\"SELECT * FROM votes\"\u001b[0m\u001b[1;33m)\u001b[0m\u001b[1;33m.\u001b[0m\u001b[0mfetchall\u001b[0m\u001b[1;33m(\u001b[0m\u001b[1;33m)\u001b[0m\u001b[1;33m\u001b[0m\u001b[1;33m\u001b[0m\u001b[0m\n\u001b[0m",
      "\u001b[1;31mProgrammingError\u001b[0m: Cannot operate on a closed database."
     ]
    }
   ],
   "source": [
    "database.execute(\"SELECT * FROM votes\").fetchall()"
   ]
  },
  {
   "cell_type": "code",
   "execution_count": 67,
   "id": "intermediate-salon",
   "metadata": {},
   "outputs": [],
   "source": [
    "database.close()"
   ]
  },
  {
   "cell_type": "code",
   "execution_count": 44,
   "id": "bottom-condition",
   "metadata": {},
   "outputs": [],
   "source": [
    "class DbConnect:\n",
    "    def __init__(self):\n",
    "        self.database = sqlite3.connect('classes.db')\n",
    "        self.cursor = cursor = self.database.cursor()\n",
    "        self.cursor.execute(\"CREATE TABLE IF NOT EXISTS `votes` ( `id` INTEGER PRIMARY KEY AUTOINCREMENT, `class` INT NOT NULL DEFAULT '-1' , `theme` TEXT NOT NULL , `query` TEXT NOT NULL , `text` TEXT NOT NULL, `link` text NOT NULL);\")\n",
    "        \n",
    "    def run(self):\n",
    "        self.database = sqlite3.connect('classes.db')\n",
    "        self.cursor = cursor = self.database.cursor()\n",
    "#         self.cursor.execute(\"CREATE TABLE IF NOT EXISTS `votes` ( `id` INTEGER PRIMARY KEY AUTOINCREMENT, `class` INT NOT NULL DEFAULT '-1' , `theme` TEXT NOT NULL , `query` TEXT NOT NULL , `text` TEXT NOT NULL, `link` text NOT NULL);\")\n",
    "        \n",
    "    def insert(self, theme, query, text, link):\n",
    "        self.run()\n",
    "        self.cursor.execute(\"INSERT INTO `votes` (`id`, `class`, `theme`, `query`, `text`, `link`) VALUES (NULL, '-1', '%s', '%s', '%s', '%s');\",(theme, query, text, link))\n",
    "        self.cursor.close()\n",
    "        \n",
    "    def show_unclassified(self, theme):\n",
    "        self.run()\n",
    "        return self.cursor.execute(f\"SELECT * FROM votes WHERE theme = '%s' and class = -1;\",(theme,)).fetchall()\n",
    "        self.cursor.close()\n",
    "    \n",
    "    def show_classified(self, theme):\n",
    "        self.run()\n",
    "        return self.cursor.execute(f\"SELECT * FROM votes WHERE theme = '{theme}' and class != -1;\").fetchall()\n",
    "        self.cursor.close()\n",
    "    \n",
    "    def correct_class(self, id_corrected, corrected):\n",
    "        self.run()\n",
    "        id_corrected = int(id_corrected)\n",
    "        corrected = int(corrected)\n",
    "        self.cursor.execute(f\"UPDATE `votes` SET `class` = '{corrected}' WHERE `id` = {id_corrected}\")\n",
    "        self.cursor.close()\n",
    "        "
   ]
  },
  {
   "cell_type": "code",
   "execution_count": 26,
   "id": "relevant-battle",
   "metadata": {},
   "outputs": [],
   "source": [
    "class conn2:\n",
    "    def __init__(self):\n",
    "        self.path = 'classes.db'\n",
    "        database = sqlite3.connect(self.path)\n",
    "        cursor = database.cursor()\n",
    "        cursor.execute(\n",
    "            \"CREATE TABLE IF NOT EXISTS `votes` ( `id` INTEGER PRIMARY KEY AUTOINCREMENT, `class` INT NOT NULL \"\n",
    "            \"DEFAULT '-1' , `theme` TEXT NOT NULL , `query` TEXT NOT NULL , `text` TEXT NOT NULL, `link` text NOT \"\n",
    "            \"NULL);\")\n",
    "        cursor.execute(\n",
    "            \"CREATE TABLE IF NOT EXISTS `paragraph` ( `id` INTEGER PRIMARY KEY AUTOINCREMENT, `link` TEXT NOT NULL , \"\n",
    "            \"`caption` TEXT NULL DEFAULT NULL , `text` TEXT NOT NULL , `theme` TEXT NOT NULL , `\"\n",
    "            \"date` timestamp NOT NULL DEFAULT CURRENT_TIMESTAMP)\")\n",
    "        cursor.execute(\n",
    "            \"CREATE TABLE IF NOT EXISTS `links` ( `id` INTEGER PRIMARY KEY AUTOINCREMENT, `link` TEXT NOT NULL , \"\n",
    "            \"`caption` TEXT NULL DEFAULT NULL, `theme` TEXT NOT NULL , `\"\n",
    "            \"date` timestamp NOT NULL DEFAULT CURRENT_TIMESTAMP)\")\n",
    "        database.commit()\n",
    "        cursor.close()\n",
    "        database.close()\n",
    "\n",
    "    def insert(self, theme, query, text, link):\n",
    "        database = sqlite3.connect(self.path)\n",
    "        cursor = database.cursor()\n",
    "        cursor.execute(\n",
    "            \"INSERT INTO `votes` (`id`, `class`, `theme`, `query`, `text`, `link`) VALUES (NULL, '-1', ?, ?, ?, ?);\",\n",
    "            (theme, query, text[:500], link))\n",
    "        database.commit()\n",
    "        cursor.close()\n",
    "        database.close()\n",
    "\n",
    "    def show_unclassified(self, theme):\n",
    "        database = sqlite3.connect(self.path)\n",
    "        cursor = database.cursor()\n",
    "        ans = cursor.execute(\"SELECT * FROM votes WHERE theme = ? and class = -1;\", (theme,)).fetchall()\n",
    "        database.commit()\n",
    "        cursor.close()\n",
    "        database.close()\n",
    "        return ans\n",
    "\n",
    "    def take(self, theme):\n",
    "        database = sqlite3.connect(self.path)\n",
    "        cursor = database.cursor()\n",
    "        ans = cursor.execute(\"SELECT * FROM votes WHERE theme = ? and class = -1 order by RANDOM() LIMIT 1;\", (theme,)).fetchall()\n",
    "        database.commit()\n",
    "        cursor.close()\n",
    "        database.close()\n",
    "        return ans\n",
    "\n",
    "    def show_classified(self, theme):\n",
    "        database = sqlite3.connect(self.path)\n",
    "        cursor = database.cursor()\n",
    "        ans = cursor.execute(\"SELECT * FROM votes WHERE theme = ? and class != -1;\", (theme,)).fetchall()\n",
    "\n",
    "        database.commit()\n",
    "        cursor.close()\n",
    "        database.close()\n",
    "        return ans\n",
    "\n",
    "\n",
    "    def correct_class(self, id_corrected, corrected):\n",
    "        database = sqlite3.connect(self.path)\n",
    "        cursor = database.cursor()\n",
    "        id_corrected = int(id_corrected)\n",
    "        corrected = int(corrected)\n",
    "        cursor.execute(\"UPDATE `votes` SET `class` = ? WHERE `id` = ?\", (corrected, id_corrected,))\n",
    "        database.commit()\n",
    "        cursor.close()\n",
    "        database.close()\n",
    "\n",
    "    def show(self):\n",
    "        database = sqlite3.connect(self.path)\n",
    "        cursor = database.cursor()\n",
    "        ans = cursor.execute(\"SELECT * FROM votes\").fetchall()\n",
    "        database.commit()\n",
    "        cursor.close()\n",
    "        database.close()\n",
    "        return ans\n",
    "\n",
    "\n",
    "    def insert_paragraph(self, link, text, theme):\n",
    "        database = sqlite3.connect(self.path)\n",
    "        cursor = database.cursor()\n",
    "        query = \"SELECT * FROM paragraph WHERE `link` = ? and `text` = ? and `theme` = ?\"\n",
    "        ans = cursor.execute(query, (link, text, theme)).fetchall()\n",
    "        if len(ans) == 0:\n",
    "            query = \"INSERT INTO `paragraph` (`id`, `link`, `caption`, `text`, `theme`, `date`) VALUES (NULL, \" \\\n",
    "                    \"?, 'site', ?, ?, CURRENT_TIMESTAMP);\"\n",
    "\n",
    "            cursor.execute(query, (link, text, theme))\n",
    "        else:\n",
    "            pass\n",
    "#             print(len(ans))\n",
    "        database.commit()\n",
    "        cursor.close()\n",
    "        database.close()\n",
    "\n",
    "\n",
    "    def show_paragraph(self):\n",
    "        database = sqlite3.connect(self.path)\n",
    "        cursor = database.cursor()\n",
    "        ans = cursor.execute(\"SELECT * FROM paragraph\").fetchall()\n",
    "        database.commit()\n",
    "        cursor.close()\n",
    "        database.close()\n",
    "        return ans\n",
    "    \n",
    "    \n",
    "    def insert_links(self, link, caption, theme):\n",
    "        database = sqlite3.connect(self.path)\n",
    "        cursor = database.cursor()\n",
    "        query = \"SELECT * FROM links WHERE `link` = ? and `text` = ? and `theme` = ?\"\n",
    "        ans = cursor.execute(query, (link, text, theme)).fetchall()\n",
    "        if len(ans) == 0:\n",
    "            query = \"INSERT INTO `links` (`id`, `link`, `caption`, `theme`, `date`) VALUES (NULL, \" \\\n",
    "                    \"?, ?, ?, CURRENT_TIMESTAMP);\"\n",
    "\n",
    "            cursor.execute(query, (link, caption, theme))\n",
    "        else:\n",
    "            pass\n",
    "#             print(len(ans))\n",
    "        database.commit()\n",
    "        cursor.close()\n",
    "        database.close()\n",
    "\n",
    "\n",
    "    def show_links(self):\n",
    "        database = sqlite3.connect(self.path)\n",
    "        cursor = database.cursor()\n",
    "        ans = cursor.execute(\"SELECT * FROM links\").fetchall()\n",
    "        database.commit()\n",
    "        cursor.close()\n",
    "        database.close()\n",
    "        return ans\n",
    "    \n",
    "    "
   ]
  },
  {
   "cell_type": "code",
   "execution_count": 14,
   "id": "sufficient-pavilion",
   "metadata": {},
   "outputs": [],
   "source": [
    "db = conn2()"
   ]
  },
  {
   "cell_type": "code",
   "execution_count": 18,
   "id": "vulnerable-attempt",
   "metadata": {},
   "outputs": [],
   "source": [
    "db.insert_link('https', 'another text', 'theme')"
   ]
  },
  {
   "cell_type": "code",
   "execution_count": 19,
   "id": "intensive-stewart",
   "metadata": {},
   "outputs": [
    {
     "data": {
      "text/plain": [
       "[(1, 'https', 'site', 'text', 'theme', '2021-04-28 18:54:04'),\n",
       " (2, 'https', 'site', 'another text', 'theme', '2021-04-28 19:58:24')]"
      ]
     },
     "execution_count": 19,
     "metadata": {},
     "output_type": "execute_result"
    }
   ],
   "source": [
    "db.show_links()"
   ]
  },
  {
   "cell_type": "code",
   "execution_count": 26,
   "id": "joint-greek",
   "metadata": {},
   "outputs": [
    {
     "ename": "AttributeError",
     "evalue": "'conn2' object has no attribute 'database'",
     "output_type": "error",
     "traceback": [
      "\u001b[1;31m---------------------------------------------------------------------------\u001b[0m",
      "\u001b[1;31mAttributeError\u001b[0m                            Traceback (most recent call last)",
      "\u001b[1;32m<ipython-input-26-3c8935bb2e7d>\u001b[0m in \u001b[0;36m<module>\u001b[1;34m\u001b[0m\n\u001b[1;32m----> 1\u001b[1;33m \u001b[0mdb\u001b[0m\u001b[1;33m.\u001b[0m\u001b[0mdatabase\u001b[0m\u001b[1;33m.\u001b[0m\u001b[0mexecute\u001b[0m\u001b[1;33m(\u001b[0m\u001b[1;34m\"SELECT * FROM votes\"\u001b[0m\u001b[1;33m)\u001b[0m\u001b[1;33m.\u001b[0m\u001b[0mfetchall\u001b[0m\u001b[1;33m(\u001b[0m\u001b[1;33m)\u001b[0m\u001b[1;33m\u001b[0m\u001b[1;33m\u001b[0m\u001b[0m\n\u001b[0m",
      "\u001b[1;31mAttributeError\u001b[0m: 'conn2' object has no attribute 'database'"
     ]
    }
   ],
   "source": [
    "db.database.execute(\"SELECT * FROM votes\").fetchall()"
   ]
  },
  {
   "cell_type": "code",
   "execution_count": 84,
   "id": "optional-manufacturer",
   "metadata": {},
   "outputs": [],
   "source": [
    "db.database.close()"
   ]
  },
  {
   "cell_type": "code",
   "execution_count": null,
   "id": "informal-competition",
   "metadata": {},
   "outputs": [],
   "source": []
  }
 ],
 "metadata": {
  "kernelspec": {
   "display_name": "Python 3",
   "language": "python",
   "name": "python3"
  },
  "language_info": {
   "codemirror_mode": {
    "name": "ipython",
    "version": 3
   },
   "file_extension": ".py",
   "mimetype": "text/x-python",
   "name": "python",
   "nbconvert_exporter": "python",
   "pygments_lexer": "ipython3",
   "version": "3.8.8"
  }
 },
 "nbformat": 4,
 "nbformat_minor": 5
}
