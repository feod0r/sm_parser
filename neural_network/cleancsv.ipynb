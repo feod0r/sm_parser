{
 "cells": [
  {
   "cell_type": "code",
   "execution_count": 14,
   "id": "intensive-combining",
   "metadata": {},
   "outputs": [],
   "source": [
    "import codecs"
   ]
  },
  {
   "cell_type": "code",
   "execution_count": 15,
   "id": "heard-coordinator",
   "metadata": {},
   "outputs": [],
   "source": [
    "file = codecs.open('data/corrections.csv', 'r', \"utf_8_sig\" )\n",
    "outp = codecs.open('data/cleancorrectionw.csv','w', \"utf_8_sig\" )"
   ]
  },
  {
   "cell_type": "code",
   "execution_count": 16,
   "id": "prime-explorer",
   "metadata": {},
   "outputs": [],
   "source": [
    "lines = file.read()"
   ]
  },
  {
   "cell_type": "code",
   "execution_count": 17,
   "id": "collective-geometry",
   "metadata": {},
   "outputs": [],
   "source": [
    "\n",
    "trigger = 0\n",
    "for j in lines:\n",
    "    \n",
    "    if j=='\\n':\n",
    "        trigger = 0\n",
    "    if j==';' and trigger==0:\n",
    "        outp.write(j)\n",
    "    elif j!=';':\n",
    "        outp.write(j)\n",
    "    if j==';':\n",
    "        trigger+=1"
   ]
  },
  {
   "cell_type": "code",
   "execution_count": 18,
   "id": "noticed-warren",
   "metadata": {},
   "outputs": [],
   "source": [
    "outp.close()"
   ]
  },
  {
   "cell_type": "code",
   "execution_count": null,
   "id": "random-monday",
   "metadata": {},
   "outputs": [],
   "source": []
  }
 ],
 "metadata": {
  "kernelspec": {
   "display_name": "Python 3",
   "language": "python",
   "name": "python3"
  },
  "language_info": {
   "codemirror_mode": {
    "name": "ipython",
    "version": 3
   },
   "file_extension": ".py",
   "mimetype": "text/x-python",
   "name": "python",
   "nbconvert_exporter": "python",
   "pygments_lexer": "ipython3",
   "version": "3.8.8"
  }
 },
 "nbformat": 4,
 "nbformat_minor": 5
}
